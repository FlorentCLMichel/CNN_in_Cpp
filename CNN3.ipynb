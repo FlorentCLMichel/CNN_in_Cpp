{
 "cells": [
  {
   "cell_type": "markdown",
   "metadata": {},
   "source": [
    "# A simple C++ implementation of a convolutional neural network \n",
    "\n",
    "<p style=\"color:blue\"><b><i> (Work in progress) </i></b></p>\n",
    "\n",
    "## Introduction\n",
    "\n",
    "Convolutional Neural Networks (CNNs) are among the most widely-used Deep Learning models. \n",
    "Their distinguishing feature is the presence of convolutional layers which make use of the translation invariance and locality properties of a problem to significantly reduce the number of parameters compared with dense layers with the same size, making them typically faster to train and more easily generalizable to unseen data.\n",
    "Among their main domains of applications are image analysis tasks like object detection (they are important ingredients of real-time detection models like [YOLO](https://arxiv.org/pdf/2004.10934.pdf), [RetinaNet](https://www.paperswithcode.com/method/retinanet), and [SSD](https://link.springer.com/chapter/10.1007/978-3-319-46448-0_2)) and classification. \n",
    "Efficient implementations of CNNs running on either CPU or GPU are available in standard libraries like [TensorFlow](https://www.tensorflow.org/) and [PyTorch](https://pytorch.org/), making it straightforward to build, train, and test a network with just a few lines of code. \n",
    "\n",
    "However, using these libraries may not explain much of how CNNs work beyond the high-level description they provide. \n",
    "At least, that was my experience when starting to use them: thanks to the wealth of tutorials available online, I was soon able to build different CNNs, train them on several datasets, evaluate them and play with the parameters until I got something which worked well while minimizing the training time; however, I felt I did not really understand what a CNN really was. \n",
    "I was able to use it and understood the main steps—data acquisition, data cleaning feature engineering, hyperparameter selection through cross-validation, model training, and testing— and got a bird's eye view of the convolution, feedforward, and gradient descent algorithms, but I wanted to know more precisely what actually happened when data is fed to the CNN, why they are so efficient, and the reason for some of their limitations.\n",
    "\n",
    "To me, the best way to understand something is to actually build it. \n",
    "So, to understand CNNs, I started to write a simple C++ implementation with handles to access it from Python and experiment with it. \n",
    "The present notebook shows some results of this experiment. \n",
    "While this implementation is, obviously, much less efficient than TensorFlow or PyTorch ones (in part because it does not optimise CPU usage and does not use the GPU at all), I hope its simplicity may help others who, like me when I started this project, feel intimidated by the complexity of these libraries' source code but want to get a deeper understanding of CNNs than simply using them can provide. \n",
    "If you are in this situation, I strongly encourage you to write your own implementation: writing code is often the best way to learn. \n",
    "Feel free to take inspiration from mine, copy the parts you like (but make sure you really understand them!), improve what you would like to be better, and add your own features. \n",
    "Many standard features like batch normalization and optimizers are not present in the current version of the code; implementing them would be a very good way for you to deepen your understanding! \n",
    "And if you don't have the time to write your own implementation (I know only too well that our time is often limited and one has to choose wisely what to devote it to), I hope the code I have written may still help you understand some of the inner workings of CNNs. \n",
    "\n",
    "In any case, if you have any questions, if something is not clear to you, or if you have spotted a mistake in the C++ code or this notebook, please feel free to reach out! \n",
    "\n",
    "## A few words on the implementation\n",
    "\n",
    "\n",
    "## Example of use on the MNIST dataset\n",
    "\n",
    "In this section we show how to use the CNN on the example of the MNIST dataset. \n",
    "We do not aim for efficiency here, and choose hyperparameters which demonstrate all the features of the implementation while keeping the resulting network relatively simple. \n",
    "In the next section, we will show how to tune the hyperparameters to optimise acuracy.\n",
    "\n",
    "Our CNN implementation is found in the module `CNN3_cpp.so`. \n",
    "To use the MNIST dataset, we need to load the `mnist` module. \n",
    "We also load functions from the `numpy` and `os` modules we will use later, and the `pyplot` module to do plots."
   ]
  },
  {
   "cell_type": "code",
   "execution_count": 1,
   "metadata": {},
   "outputs": [],
   "source": [
    "import CNN3\n",
    "import mnist \n",
    "from numpy import newaxis\n",
    "from numpy.random import permutation as np_permutation\n",
    "from os.path import exists\n",
    "import matplotlib.pyplot as plt"
   ]
  },
  {
   "cell_type": "markdown",
   "metadata": {},
   "source": [
    "We now define a few parameters. \n",
    "The string `save_file_name` is the name of the file in which the CNN will be saved. "
   ]
  },
  {
   "cell_type": "code",
   "execution_count": 2,
   "metadata": {},
   "outputs": [],
   "source": [
    "save_file_name = 'MNIST_CNN_1.cnn'"
   ]
  },
  {
   "cell_type": "markdown",
   "metadata": {},
   "source": [
    "The following parameters relate to the training and testing phases:\n",
    "* `n_train_images` (positive integer with maximum value 60000) is the number of train images,\n",
    "* `n_test_images` (positive integer with maximum value 10000) is the number of test images,\n",
    "* `n_epochs` (positive integer) is the number of epochs,\n",
    "* `n_print` (positive integer) determines the frequency with which the accuracy is printed during training (it is printed every `n_print` steps),\n",
    "* `learn_rate` (positive float) is the learning rate."
   ]
  },
  {
   "cell_type": "code",
   "execution_count": 3,
   "metadata": {},
   "outputs": [],
   "source": [
    "n_train_images = 60000\n",
    "n_test_images = 10000\n",
    "n_epochs = 10\n",
    "n_print = 4000\n",
    "learn_rate = 0.01"
   ]
  },
  {
   "cell_type": "markdown",
   "metadata": {},
   "source": [
    "Next, we define the hyperparameters of the network: \n",
    "* `img_w` (positive integer): width of the input images,\n",
    "* `img_h` (positive integer): height of the input images,\n",
    "* `num_labels` (positive integer): the number of different labels,\n",
    "* `CL_size_filters` (list of positive integers): filter sizes for the convolution layers,\n",
    "* `CL_num_filters` (list of positive integers): umber of filters for the convolution layers,\n",
    "* `MP_size` (list of positive integers): size of the maxpool layers\n",
    "* `FC_size` (list of positive integers): number of neurons for the fully-connected layers, excluding the output layer, \n",
    "* `p_dropout`: the dropout probability.\n",
    "\n",
    "The lists `CL_size_filters`, `CL_num_filters`, and `MP_size` must have the same size (equal to the number of convolution layers). \n",
    "The length of the list `FC_size` gives the number of fully-connected layers excluding the output layer. \n",
    "(The number of neurons in the output layer is equal to `num_labels`.)\n",
    "\n",
    "Here we work with a CNN having 2 convolution layers and 2 fully-connected layers:"
   ]
  },
  {
   "cell_type": "code",
   "execution_count": 4,
   "metadata": {},
   "outputs": [],
   "source": [
    "img_w = 28 # width of input images\n",
    "img_h = 28 # height of input images\n",
    "num_labels = 10 # number of possible labels\n",
    "CL_size_filters = [3,3] # list of filter sizes for the convolution layers\n",
    "CL_num_filters = [16,32] # number of filters for the convolution layers\n",
    "MP_size = [2,2] # size of the maxpool layers\n",
    "FC_size = [32] # number of neurons for the fully-connected layers (exclusing the output layer)\n",
    "p_dropout = 0.2 # dropout probability"
   ]
  },
  {
   "cell_type": "markdown",
   "metadata": {},
   "source": [
    "We now load the training and test images from the MNIST dataset and normalize them to have values between -0.5 and 0.5: "
   ]
  },
  {
   "cell_type": "code",
   "execution_count": 5,
   "metadata": {},
   "outputs": [],
   "source": [
    "# normalization function\n",
    "def normalize(image):\n",
    "    return image / 255 - 0.5\n",
    "\n",
    "# training images and labels\n",
    "train_images = normalize(mnist.train_images()[:n_train_images])\n",
    "train_labels = mnist.train_labels()[:n_train_images]\n",
    "\n",
    "# test images and labels\n",
    "test_images = normalize(mnist.test_images()[:n_test_images])\n",
    "test_labels = mnist.test_labels()[:n_test_images]"
   ]
  },
  {
   "cell_type": "markdown",
   "metadata": {},
   "source": [
    "If no file with the name `save_file_name` exists, we build it and train it. \n",
    "If it exists, we skip this step. "
   ]
  },
  {
   "cell_type": "code",
   "execution_count": 6,
   "metadata": {
    "scrolled": true
   },
   "outputs": [
    {
     "name": "stdout",
     "output_type": "stream",
     "text": [
      "MNIST CNN initialized\n",
      "\n",
      "\n",
      "— Start of training —\n",
      "\n",
      "— Epoch 1 of 10 —\n",
      "\n",
      "Step 4000 — average loss: 1.6116376798, accuracy: 41.250%\n",
      "Step 8000 — average loss: 0.2977221664, accuracy: 91.000%\n",
      "Step 12000 — average loss: 0.2005693184, accuracy: 94.575%\n",
      "Step 16000 — average loss: 0.1608117628, accuracy: 94.750%\n",
      "Step 20000 — average loss: 0.1295900408, accuracy: 95.900%\n",
      "Step 24000 — average loss: 0.1093735968, accuracy: 96.625%\n",
      "Step 28000 — average loss: 0.0982715505, accuracy: 96.975%\n",
      "Step 32000 — average loss: 0.1037220603, accuracy: 96.775%\n",
      "Step 36000 — average loss: 0.1189947530, accuracy: 96.375%\n",
      "Step 40000 — average loss: 0.0831808534, accuracy: 97.525%\n",
      "Step 44000 — average loss: 0.0884403634, accuracy: 97.575%\n",
      "Step 48000 — average loss: 0.0894561769, accuracy: 97.300%\n",
      "Step 52000 — average loss: 0.0773459301, accuracy: 97.800%\n",
      "Step 56000 — average loss: 0.0853091692, accuracy: 97.300%\n",
      "Step 60000 — average loss: 0.0913815525, accuracy: 96.975%\n",
      "\n",
      "— Epoch 2 of 10 —\n",
      "\n",
      "Step 4000 — average loss: 0.0624053039, accuracy: 98.025%\n",
      "Step 8000 — average loss: 0.0627425207, accuracy: 98.100%\n",
      "Step 12000 — average loss: 0.0551807996, accuracy: 98.325%\n",
      "Step 16000 — average loss: 0.0638224156, accuracy: 98.025%\n",
      "Step 20000 — average loss: 0.0753917965, accuracy: 97.900%\n",
      "Step 24000 — average loss: 0.0728983796, accuracy: 97.675%\n",
      "Step 28000 — average loss: 0.0739110593, accuracy: 97.675%\n",
      "Step 32000 — average loss: 0.0540724997, accuracy: 98.500%\n",
      "Step 36000 — average loss: 0.0597174771, accuracy: 98.400%\n",
      "Step 40000 — average loss: 0.0623151790, accuracy: 98.025%\n",
      "Step 44000 — average loss: 0.0723848932, accuracy: 98.000%\n",
      "Step 48000 — average loss: 0.0818610407, accuracy: 97.750%\n",
      "Step 52000 — average loss: 0.0638600353, accuracy: 98.175%\n",
      "Step 56000 — average loss: 0.0626445110, accuracy: 97.750%\n",
      "Step 60000 — average loss: 0.0716422765, accuracy: 97.800%\n",
      "\n",
      "— Epoch 3 of 10 —\n",
      "\n",
      "Step 4000 — average loss: 0.0485784841, accuracy: 98.525%\n",
      "Step 8000 — average loss: 0.0479414814, accuracy: 98.650%\n",
      "Step 12000 — average loss: 0.0475470251, accuracy: 98.625%\n",
      "Step 16000 — average loss: 0.0528201008, accuracy: 98.375%\n",
      "Step 20000 — average loss: 0.0612826222, accuracy: 98.225%\n",
      "Step 24000 — average loss: 0.0563524035, accuracy: 98.325%\n",
      "Step 28000 — average loss: 0.0466862109, accuracy: 98.525%\n",
      "Step 32000 — average loss: 0.0529604785, accuracy: 98.450%\n",
      "Step 36000 — average loss: 0.0412625577, accuracy: 98.800%\n",
      "Step 40000 — average loss: 0.0665910084, accuracy: 97.975%\n",
      "Step 44000 — average loss: 0.0602840374, accuracy: 98.025%\n",
      "Step 48000 — average loss: 0.0557789871, accuracy: 98.300%\n",
      "Step 52000 — average loss: 0.0563405701, accuracy: 98.425%\n",
      "Step 56000 — average loss: 0.0581894243, accuracy: 98.325%\n",
      "Step 60000 — average loss: 0.0456436230, accuracy: 98.500%\n",
      "\n",
      "— Epoch 4 of 10 —\n",
      "\n",
      "Step 4000 — average loss: 0.0375321032, accuracy: 98.675%\n",
      "Step 8000 — average loss: 0.0374999147, accuracy: 98.700%\n",
      "Step 12000 — average loss: 0.0424732381, accuracy: 98.600%\n",
      "Step 16000 — average loss: 0.0517209477, accuracy: 98.500%\n",
      "Step 20000 — average loss: 0.0375266123, accuracy: 98.750%\n",
      "Step 24000 — average loss: 0.0540485965, accuracy: 98.250%\n",
      "Step 28000 — average loss: 0.0547102845, accuracy: 98.300%\n",
      "Step 32000 — average loss: 0.0407260589, accuracy: 98.625%\n",
      "Step 36000 — average loss: 0.0579101382, accuracy: 98.150%\n",
      "Step 40000 — average loss: 0.0582807623, accuracy: 98.575%\n",
      "Step 44000 — average loss: 0.0573958187, accuracy: 98.225%\n",
      "Step 48000 — average loss: 0.0416142968, accuracy: 98.850%\n",
      "Step 52000 — average loss: 0.0454040774, accuracy: 98.500%\n",
      "Step 56000 — average loss: 0.0681684108, accuracy: 97.925%\n",
      "Step 60000 — average loss: 0.0492773195, accuracy: 98.450%\n",
      "\n",
      "— Epoch 5 of 10 —\n",
      "\n",
      "Step 4000 — average loss: 0.0379842086, accuracy: 98.900%\n",
      "Step 8000 — average loss: 0.0447653590, accuracy: 98.675%\n",
      "Step 12000 — average loss: 0.0415602280, accuracy: 98.650%\n",
      "Step 16000 — average loss: 0.0266021153, accuracy: 99.025%\n",
      "Step 20000 — average loss: 0.0438846589, accuracy: 98.525%\n",
      "Step 24000 — average loss: 0.0382122768, accuracy: 98.775%\n",
      "Step 28000 — average loss: 0.0496755731, accuracy: 98.450%\n",
      "Step 32000 — average loss: 0.0483664477, accuracy: 98.350%\n",
      "Step 36000 — average loss: 0.0394989670, accuracy: 98.700%\n",
      "Step 40000 — average loss: 0.0517856601, accuracy: 98.250%\n",
      "Step 44000 — average loss: 0.0359965461, accuracy: 98.975%\n",
      "Step 48000 — average loss: 0.0502398023, accuracy: 98.675%\n",
      "Step 52000 — average loss: 0.0497920231, accuracy: 98.400%\n",
      "Step 56000 — average loss: 0.0441368954, accuracy: 98.625%\n",
      "Step 60000 — average loss: 0.0461625976, accuracy: 98.775%\n",
      "\n",
      "— Epoch 6 of 10 —\n",
      "\n",
      "Step 4000 — average loss: 0.0348644513, accuracy: 99.000%\n",
      "Step 8000 — average loss: 0.0414663465, accuracy: 98.725%\n",
      "Step 12000 — average loss: 0.0408858304, accuracy: 98.925%\n",
      "Step 16000 — average loss: 0.0318865839, accuracy: 99.075%\n",
      "Step 20000 — average loss: 0.0238791843, accuracy: 99.275%\n",
      "Step 24000 — average loss: 0.0412729748, accuracy: 98.850%\n",
      "Step 28000 — average loss: 0.0415027304, accuracy: 98.650%\n",
      "Step 32000 — average loss: 0.0416908171, accuracy: 98.550%\n",
      "Step 36000 — average loss: 0.0332957322, accuracy: 98.800%\n",
      "Step 40000 — average loss: 0.0324475227, accuracy: 98.900%\n",
      "Step 44000 — average loss: 0.0328001869, accuracy: 99.150%\n",
      "Step 48000 — average loss: 0.0449308035, accuracy: 98.700%\n",
      "Step 52000 — average loss: 0.0434630837, accuracy: 98.575%\n",
      "Step 56000 — average loss: 0.0323387592, accuracy: 98.925%\n",
      "Step 60000 — average loss: 0.0562138762, accuracy: 98.450%\n",
      "\n",
      "— Epoch 7 of 10 —\n",
      "\n",
      "Step 4000 — average loss: 0.0394653308, accuracy: 98.700%\n",
      "Step 8000 — average loss: 0.0338250511, accuracy: 99.050%\n",
      "Step 12000 — average loss: 0.0271409257, accuracy: 99.125%\n",
      "Step 16000 — average loss: 0.0325547930, accuracy: 99.150%\n",
      "Step 20000 — average loss: 0.0415318650, accuracy: 98.725%\n",
      "Step 24000 — average loss: 0.0368306722, accuracy: 98.975%\n",
      "Step 28000 — average loss: 0.0358082383, accuracy: 98.775%\n",
      "Step 32000 — average loss: 0.0347546908, accuracy: 98.925%\n",
      "Step 36000 — average loss: 0.0334170245, accuracy: 98.950%\n",
      "Step 40000 — average loss: 0.0361652230, accuracy: 98.875%\n",
      "Step 44000 — average loss: 0.0314184685, accuracy: 99.200%\n",
      "Step 48000 — average loss: 0.0480475487, accuracy: 98.625%\n",
      "Step 52000 — average loss: 0.0318323844, accuracy: 99.050%\n",
      "Step 56000 — average loss: 0.0587488762, accuracy: 98.225%\n",
      "Step 60000 — average loss: 0.0506394284, accuracy: 98.675%\n",
      "\n",
      "— Epoch 8 of 10 —\n",
      "\n",
      "Step 4000 — average loss: 0.0348123437, accuracy: 98.625%\n",
      "Step 8000 — average loss: 0.0273445579, accuracy: 99.150%\n",
      "Step 12000 — average loss: 0.0260308024, accuracy: 99.125%\n",
      "Step 16000 — average loss: 0.0378022236, accuracy: 98.925%\n",
      "Step 20000 — average loss: 0.0322383183, accuracy: 99.050%\n",
      "Step 24000 — average loss: 0.0366009267, accuracy: 98.800%\n",
      "Step 28000 — average loss: 0.0406841463, accuracy: 98.825%\n",
      "Step 32000 — average loss: 0.0279858404, accuracy: 99.075%\n",
      "Step 36000 — average loss: 0.0410704623, accuracy: 98.825%\n",
      "Step 40000 — average loss: 0.0311689048, accuracy: 98.975%\n",
      "Step 44000 — average loss: 0.0441915017, accuracy: 98.700%\n",
      "Step 48000 — average loss: 0.0557422079, accuracy: 98.400%\n",
      "Step 52000 — average loss: 0.0491602122, accuracy: 98.600%\n",
      "Step 56000 — average loss: 0.0331731018, accuracy: 99.025%\n",
      "Step 60000 — average loss: 0.0510026251, accuracy: 98.500%\n",
      "\n",
      "— Epoch 9 of 10 —\n",
      "\n",
      "Step 4000 — average loss: 0.0360415570, accuracy: 98.800%\n",
      "Step 8000 — average loss: 0.0228465424, accuracy: 99.300%\n",
      "Step 12000 — average loss: 0.0514806070, accuracy: 98.550%\n",
      "Step 16000 — average loss: 0.0302112970, accuracy: 99.175%\n",
      "Step 20000 — average loss: 0.0289072495, accuracy: 99.250%\n",
      "Step 24000 — average loss: 0.0274770999, accuracy: 99.150%\n",
      "Step 28000 — average loss: 0.0273571004, accuracy: 99.325%\n",
      "Step 32000 — average loss: 0.0430187556, accuracy: 98.775%\n",
      "Step 36000 — average loss: 0.0498575581, accuracy: 98.575%\n",
      "Step 40000 — average loss: 0.0396120105, accuracy: 98.925%\n",
      "Step 44000 — average loss: 0.0457438150, accuracy: 98.525%\n",
      "Step 48000 — average loss: 0.0453019632, accuracy: 98.875%\n",
      "Step 52000 — average loss: 0.0268911072, accuracy: 99.075%\n",
      "Step 56000 — average loss: 0.0252472326, accuracy: 99.200%\n",
      "Step 60000 — average loss: 0.0367312393, accuracy: 98.925%\n",
      "\n",
      "— Epoch 10 of 10 —\n",
      "\n",
      "Step 4000 — average loss: 0.0226396784, accuracy: 99.325%\n",
      "Step 8000 — average loss: 0.0197778829, accuracy: 99.400%\n",
      "Step 12000 — average loss: 0.0318563774, accuracy: 99.125%\n",
      "Step 16000 — average loss: 0.0538605722, accuracy: 98.175%\n",
      "Step 20000 — average loss: 0.0359404715, accuracy: 98.875%\n",
      "Step 24000 — average loss: 0.0305583827, accuracy: 99.100%\n",
      "Step 28000 — average loss: 0.0260362258, accuracy: 99.200%\n",
      "Step 32000 — average loss: 0.0427537150, accuracy: 98.900%\n",
      "Step 36000 — average loss: 0.0320209262, accuracy: 98.800%\n",
      "Step 40000 — average loss: 0.0267382258, accuracy: 99.000%\n",
      "Step 44000 — average loss: 0.0470981965, accuracy: 98.600%\n",
      "Step 48000 — average loss: 0.0238996612, accuracy: 99.250%\n",
      "Step 52000 — average loss: 0.0388858476, accuracy: 99.025%\n",
      "Step 56000 — average loss: 0.0266895439, accuracy: 99.175%\n",
      "Step 60000 — average loss: 0.0629615529, accuracy: 98.400%\n"
     ]
    },
    {
     "data": {
      "image/png": "[encoded data removed]",
      "text/plain": [
       "<Figure size 432x288 with 1 Axes>"
      ]
     },
     "metadata": {
      "needs_background": "light"
     },
     "output_type": "display_data"
    },
    {
     "data": {
      "image/png": "[encoded data removed]",
      "text/plain": [
       "<Figure size 432x288 with 1 Axes>"
      ]
     },
     "metadata": {
      "needs_background": "light"
     },
     "output_type": "display_data"
    },
    {
     "data": {
      "image/png": "[encoded data removed]",
      "text/plain": [
       "<Figure size 432x288 with 1 Axes>"
      ]
     },
     "metadata": {
      "needs_background": "light"
     },
     "output_type": "display_data"
    },
    {
     "data": {
      "image/png": "[encoded data removed]",
      "text/plain": [
       "<Figure size 432x288 with 1 Axes>"
      ]
     },
     "metadata": {
      "needs_background": "light"
     },
     "output_type": "display_data"
    }
   ],
   "source": [
    "if not exists(save_file_name):\n",
    "\n",
    "    # build the CNN \n",
    "    CNN = CNN3.CNN3(img_w, img_h, 1, CL_size_filters, CL_num_filters, MP_size, FC_size, num_labels)\n",
    "\n",
    "    print('MNIST CNN initialized') \n",
    "\n",
    "    # train the CNN\n",
    "\n",
    "    # number of steps elapsed \n",
    "    nsteps_l = []\n",
    "    # loss function\n",
    "    loss_l = []\n",
    "    # accuracy\n",
    "    acc_l = []\n",
    "\n",
    "    print('\\n\\n— Start of training —')\n",
    "    for epoch in range(n_epochs):\n",
    "        nsteps_l.append([])\n",
    "        loss_l.append([])\n",
    "        acc_l.append([])\n",
    "        print('\\n— Epoch {:d} of {:d} —\\n'.format(epoch+1, n_epochs))\n",
    "\n",
    "        # shuffle the training data\n",
    "        permutation = np_permutation(len(train_images))\n",
    "        train_images = train_images[permutation]\n",
    "        train_labels = train_labels[permutation]\n",
    "\n",
    "        # set the loss and number of correctly predicted labels to 0\n",
    "        loss = 0.\n",
    "        num_correct = 0\n",
    "\n",
    "        # for each image in the training set, train the CNN and update the loss and number of correctly-predicted labels\n",
    "        for i, (im, label) in enumerate(zip(train_images, train_labels)): \n",
    "            results = CNN.train(train_images[i][newaxis,:], int(train_labels[i]), learn_rate, p_dropout)\n",
    "            loss += results[0]\n",
    "            num_correct += results[1]\n",
    "            # if i is a multiple of n_print, print the loss and accuracy            \n",
    "            if i % n_print == n_print - 1:\n",
    "                nsteps_l[-1].append(i)\n",
    "                loss_l[-1].append(loss / n_print)\n",
    "                acc_l[-1].append(num_correct / n_print)\n",
    "                print('Step {:d} — average loss: {:.10f}, accuracy: {:.3f}%'.format(i+1, loss/n_print, num_correct*100./n_print))\n",
    "                # reset the loss and number of correctly-preducted labels\n",
    "                loss = 0.\n",
    "                num_correct = 0\n",
    "\n",
    "    # save the CNN\n",
    "    CNN.save(save_file_name)\n",
    "\n",
    "    # plot the evolution of the loss function\n",
    "    for e in range(n_epochs):\n",
    "        plt.plot(nsteps_l[e], loss_l[e], label='epoch {:d}'.format(e+1))\n",
    "    plt.xlim(0, n_train_images)\n",
    "    plt.xlabel(r'$n_{\\mathrm{steps}}$')\n",
    "    plt.ylabel(r'$\\mathrm{loss}$')\n",
    "    plt.grid()\n",
    "    plt.legend()\n",
    "    plt.tight_layout()\n",
    "    plt.show()\n",
    "\n",
    "    # plot the evolution of the accuracy\n",
    "    for e in range(n_epochs):\n",
    "        plt.plot(nsteps_l[e], acc_l[e], label='epoch {:d}'.format(e+1))\n",
    "    plt.xlim(0, n_train_images)\n",
    "    plt.xlabel(r'$n_{\\mathrm{steps}}$')\n",
    "    plt.ylabel(r'$\\mathrm{accuracy}$')\n",
    "    plt.grid()\n",
    "    plt.legend()\n",
    "    plt.tight_layout()\n",
    "    plt.show()\n",
    "    \n",
    "    # plot the evolution of the loss function - epoch to epoch\n",
    "    plt.plot(range(n_epochs), [l[-1] for l in loss_l])\n",
    "    plt.xlim(0, n_epochs-1)\n",
    "    plt.xlabel(r'$\\mathrm{epoch}$')\n",
    "    plt.ylabel(r'$\\mathrm{loss}$')\n",
    "    plt.grid()\n",
    "    plt.tight_layout()\n",
    "    plt.show()\n",
    "\n",
    "    # plot the evolution of the accuracy  - epoch to epoch\n",
    "    plt.plot(range(n_epochs), [l[-1] for l in acc_l])\n",
    "    plt.xlim(0, n_epochs-1)\n",
    "    plt.xlabel(r'$\\mathrm{epoch}$')\n",
    "    plt.ylabel(r'$\\mathrm{accuracy}$')\n",
    "    plt.grid()\n",
    "    plt.tight_layout()\n",
    "    plt.show()"
   ]
  },
  {
   "cell_type": "markdown",
   "metadata": {},
   "source": [
    "Notice that the accuracy seems to keep increasing. \n",
    "The results are thus not expected to be optimal. \n",
    "\n",
    "We then load the CNN:"
   ]
  },
  {
   "cell_type": "code",
   "execution_count": 7,
   "metadata": {},
   "outputs": [],
   "source": [
    "CNN = CNN3.CNN3()\n",
    "CNN.load(save_file_name)"
   ]
  },
  {
   "cell_type": "markdown",
   "metadata": {},
   "source": [
    "We then test the CNN on the training set and print the loss and accuracy:"
   ]
  },
  {
   "cell_type": "code",
   "execution_count": 8,
   "metadata": {},
   "outputs": [
    {
     "name": "stdout",
     "output_type": "stream",
     "text": [
      "\n",
      "\n",
      "— Testing the CNN —\n",
      "\n",
      "Test Loss: 0.05482826454899335\n",
      "Test Accuracy: 0.9853\n"
     ]
    }
   ],
   "source": [
    "print('\\n\\n— Testing the CNN —\\n')\n",
    "loss = 0.\n",
    "num_correct = 0\n",
    "for i, (im, label) in enumerate(zip(test_images, test_labels)):\n",
    "    results = CNN.forward_la(im[newaxis,:], int(label))\n",
    "    loss += results[0]\n",
    "    num_correct += results[1]\n",
    "print('Test Loss:', loss / n_test_images)\n",
    "print('Test Accuracy:', num_correct / n_test_images)"
   ]
  },
  {
   "cell_type": "markdown",
   "metadata": {},
   "source": [
    "The accuracy is larger than 98%, which seems decent. \n",
    "Let us further train the model to see if the accuracy improves:"
   ]
  },
  {
   "cell_type": "code",
   "execution_count": 9,
   "metadata": {
    "scrolled": true
   },
   "outputs": [
    {
     "name": "stdout",
     "output_type": "stream",
     "text": [
      "\n",
      "\n",
      "— Start of training —\n",
      "\n",
      "— Epoch 1 of 10 —\n",
      "\n",
      "Step 4000 — average loss: 0.0329964570, accuracy: 99.025%\n",
      "Step 8000 — average loss: 0.0257882703, accuracy: 99.400%\n",
      "Step 12000 — average loss: 0.0376619672, accuracy: 98.875%\n",
      "Step 16000 — average loss: 0.0308924644, accuracy: 99.125%\n",
      "Step 20000 — average loss: 0.0382448735, accuracy: 98.850%\n",
      "Step 24000 — average loss: 0.0373101838, accuracy: 98.900%\n",
      "Step 28000 — average loss: 0.0494867794, accuracy: 98.775%\n",
      "Step 32000 — average loss: 0.0359165602, accuracy: 98.850%\n",
      "Step 36000 — average loss: 0.0271949937, accuracy: 99.300%\n",
      "Step 40000 — average loss: 0.0297328027, accuracy: 99.100%\n",
      "Step 44000 — average loss: 0.0397303551, accuracy: 98.900%\n",
      "Step 48000 — average loss: 0.0460951314, accuracy: 98.550%\n",
      "Step 52000 — average loss: 0.0519758945, accuracy: 98.625%\n",
      "Step 56000 — average loss: 0.0500076383, accuracy: 98.300%\n",
      "Step 60000 — average loss: 0.0311578177, accuracy: 99.175%\n",
      "\n",
      "— Epoch 2 of 10 —\n",
      "\n",
      "Step 4000 — average loss: 0.0279797431, accuracy: 99.175%\n",
      "Step 8000 — average loss: 0.0246192249, accuracy: 99.250%\n",
      "Step 12000 — average loss: 0.0299207455, accuracy: 99.050%\n",
      "Step 16000 — average loss: 0.0492379754, accuracy: 98.750%\n",
      "Step 20000 — average loss: 0.0377667652, accuracy: 98.750%\n",
      "Step 24000 — average loss: 0.0332571804, accuracy: 99.000%\n",
      "Step 28000 — average loss: 0.0451162283, accuracy: 98.675%\n",
      "Step 32000 — average loss: 0.0235065498, accuracy: 99.325%\n",
      "Step 36000 — average loss: 0.0309871061, accuracy: 99.225%\n",
      "Step 40000 — average loss: 0.0345632455, accuracy: 99.175%\n",
      "Step 44000 — average loss: 0.0351959882, accuracy: 98.900%\n",
      "Step 48000 — average loss: 0.0488780554, accuracy: 98.675%\n",
      "Step 52000 — average loss: 0.0524062558, accuracy: 98.725%\n",
      "Step 56000 — average loss: 0.0424298100, accuracy: 98.775%\n",
      "Step 60000 — average loss: 0.0401535437, accuracy: 98.850%\n",
      "\n",
      "— Epoch 3 of 10 —\n",
      "\n",
      "Step 4000 — average loss: 0.0155915543, accuracy: 99.425%\n",
      "Step 8000 — average loss: 0.0312828105, accuracy: 99.100%\n",
      "Step 12000 — average loss: 0.0245799532, accuracy: 99.425%\n",
      "Step 16000 — average loss: 0.0305126295, accuracy: 99.100%\n",
      "Step 20000 — average loss: 0.0217920563, accuracy: 99.400%\n",
      "Step 24000 — average loss: 0.0340284303, accuracy: 99.100%\n",
      "Step 28000 — average loss: 0.0398418261, accuracy: 99.000%\n",
      "Step 32000 — average loss: 0.0529985614, accuracy: 98.525%\n",
      "Step 36000 — average loss: 0.0204326407, accuracy: 99.350%\n",
      "Step 40000 — average loss: 0.0306938453, accuracy: 99.225%\n",
      "Step 44000 — average loss: 0.0247681286, accuracy: 99.275%\n",
      "Step 48000 — average loss: 0.0388031655, accuracy: 99.000%\n",
      "Step 52000 — average loss: 0.0416358658, accuracy: 98.800%\n",
      "Step 56000 — average loss: 0.0317309630, accuracy: 99.150%\n",
      "Step 60000 — average loss: 0.0242730793, accuracy: 99.125%\n",
      "\n",
      "— Epoch 4 of 10 —\n",
      "\n",
      "Step 4000 — average loss: 0.0219932492, accuracy: 99.450%\n",
      "Step 8000 — average loss: 0.0254743979, accuracy: 99.250%\n",
      "Step 12000 — average loss: 0.0247107549, accuracy: 99.325%\n",
      "Step 16000 — average loss: 0.0437556590, accuracy: 98.800%\n",
      "Step 20000 — average loss: 0.0219931410, accuracy: 99.225%\n",
      "Step 24000 — average loss: 0.0209499170, accuracy: 99.225%\n",
      "Step 28000 — average loss: 0.0363982916, accuracy: 98.850%\n",
      "Step 32000 — average loss: 0.0599072961, accuracy: 98.575%\n",
      "Step 36000 — average loss: 0.0627429939, accuracy: 98.575%\n",
      "Step 40000 — average loss: 0.0330578223, accuracy: 99.075%\n",
      "Step 44000 — average loss: 0.0466427607, accuracy: 98.825%\n",
      "Step 48000 — average loss: 0.0633839492, accuracy: 98.400%\n",
      "Step 52000 — average loss: 0.0424127197, accuracy: 98.825%\n",
      "Step 56000 — average loss: 0.0445678720, accuracy: 98.725%\n",
      "Step 60000 — average loss: 0.0354705885, accuracy: 99.100%\n",
      "\n",
      "— Epoch 5 of 10 —\n",
      "\n",
      "Step 4000 — average loss: 0.0162202138, accuracy: 99.350%\n",
      "Step 8000 — average loss: 0.0432250572, accuracy: 98.850%\n",
      "Step 12000 — average loss: 0.0220995638, accuracy: 99.375%\n",
      "Step 16000 — average loss: 0.0470716728, accuracy: 98.975%\n",
      "Step 20000 — average loss: 0.0510293703, accuracy: 98.700%\n",
      "Step 24000 — average loss: 0.0438021426, accuracy: 98.975%\n",
      "Step 28000 — average loss: 0.0145888829, accuracy: 99.550%\n",
      "Step 32000 — average loss: 0.0385581380, accuracy: 99.100%\n",
      "Step 36000 — average loss: 0.0225687667, accuracy: 99.350%\n",
      "Step 40000 — average loss: 0.0583557088, accuracy: 98.450%\n",
      "Step 44000 — average loss: 0.0385935156, accuracy: 98.750%\n",
      "Step 48000 — average loss: 0.0561011987, accuracy: 98.625%\n",
      "Step 52000 — average loss: 0.0463576329, accuracy: 98.775%\n",
      "Step 56000 — average loss: 0.0501852916, accuracy: 98.675%\n",
      "Step 60000 — average loss: 0.0397280141, accuracy: 98.800%\n",
      "\n",
      "— Epoch 6 of 10 —\n",
      "\n",
      "Step 4000 — average loss: 0.0334887475, accuracy: 99.175%\n",
      "Step 8000 — average loss: 0.0189117344, accuracy: 99.500%\n",
      "Step 12000 — average loss: 0.0568078052, accuracy: 98.375%\n",
      "Step 16000 — average loss: 0.0398945299, accuracy: 99.050%\n",
      "Step 20000 — average loss: 0.0276646642, accuracy: 99.050%\n",
      "Step 24000 — average loss: 0.0256445072, accuracy: 99.225%\n",
      "Step 28000 — average loss: 0.0250318921, accuracy: 99.100%\n",
      "Step 32000 — average loss: 0.0527305457, accuracy: 98.650%\n",
      "Step 36000 — average loss: 0.0425666178, accuracy: 99.100%\n",
      "Step 40000 — average loss: 0.0421235882, accuracy: 98.900%\n",
      "Step 44000 — average loss: 0.0425245997, accuracy: 98.975%\n",
      "Step 48000 — average loss: 0.0344906379, accuracy: 98.900%\n",
      "Step 52000 — average loss: 0.0543198847, accuracy: 98.575%\n",
      "Step 56000 — average loss: 0.0487961609, accuracy: 98.700%\n",
      "Step 60000 — average loss: 0.0431016192, accuracy: 98.725%\n",
      "\n",
      "— Epoch 7 of 10 —\n",
      "\n",
      "Step 4000 — average loss: 0.0215433653, accuracy: 99.225%\n",
      "Step 8000 — average loss: 0.0286177813, accuracy: 99.225%\n",
      "Step 12000 — average loss: 0.0386390065, accuracy: 98.875%\n",
      "Step 16000 — average loss: 0.0299471051, accuracy: 99.250%\n",
      "Step 20000 — average loss: 0.0443355234, accuracy: 98.850%\n",
      "Step 24000 — average loss: 0.0338091644, accuracy: 99.200%\n",
      "Step 28000 — average loss: 0.0426157465, accuracy: 99.025%\n",
      "Step 32000 — average loss: 0.0332528034, accuracy: 99.150%\n",
      "Step 36000 — average loss: 0.0368701732, accuracy: 98.950%\n",
      "Step 40000 — average loss: 0.0397427476, accuracy: 98.900%\n",
      "Step 44000 — average loss: 0.0359201409, accuracy: 99.125%\n",
      "Step 48000 — average loss: 0.0423190346, accuracy: 98.875%\n",
      "Step 52000 — average loss: 0.0610733707, accuracy: 98.550%\n",
      "Step 56000 — average loss: 0.0376623817, accuracy: 98.950%\n",
      "Step 60000 — average loss: 0.0706728301, accuracy: 98.650%\n",
      "\n",
      "— Epoch 8 of 10 —\n",
      "\n",
      "Step 4000 — average loss: 0.0599058038, accuracy: 98.400%\n",
      "Step 8000 — average loss: 0.0455936269, accuracy: 98.975%\n",
      "Step 12000 — average loss: 0.0710473467, accuracy: 98.600%\n",
      "Step 16000 — average loss: 0.0323319127, accuracy: 99.125%\n",
      "Step 20000 — average loss: 0.0312264662, accuracy: 99.125%\n",
      "Step 24000 — average loss: 0.0314085245, accuracy: 99.100%\n",
      "Step 28000 — average loss: 0.0525399063, accuracy: 98.700%\n",
      "Step 32000 — average loss: 0.0560833655, accuracy: 98.575%\n",
      "Step 36000 — average loss: 0.0447726957, accuracy: 98.850%\n",
      "Step 40000 — average loss: 0.0457009989, accuracy: 98.675%\n",
      "Step 44000 — average loss: 0.0483117755, accuracy: 98.800%\n",
      "Step 48000 — average loss: 0.0389613857, accuracy: 99.025%\n",
      "Step 52000 — average loss: 0.0594664163, accuracy: 98.550%\n",
      "Step 56000 — average loss: 0.0389655634, accuracy: 98.800%\n",
      "Step 60000 — average loss: 0.0631552221, accuracy: 98.500%\n",
      "\n",
      "— Epoch 9 of 10 —\n",
      "\n",
      "Step 4000 — average loss: 0.0425284710, accuracy: 99.125%\n",
      "Step 8000 — average loss: 0.0435996976, accuracy: 98.950%\n",
      "Step 12000 — average loss: 0.0439314907, accuracy: 98.875%\n",
      "Step 16000 — average loss: 0.0495418684, accuracy: 99.075%\n",
      "Step 20000 — average loss: 0.0580631748, accuracy: 98.575%\n",
      "Step 24000 — average loss: 0.0591113696, accuracy: 98.625%\n",
      "Step 28000 — average loss: 0.0520657504, accuracy: 98.675%\n",
      "Step 32000 — average loss: 0.0730994506, accuracy: 98.400%\n",
      "Step 36000 — average loss: 0.0473158291, accuracy: 98.775%\n",
      "Step 40000 — average loss: 0.0557038176, accuracy: 98.675%\n",
      "Step 44000 — average loss: 0.0523397008, accuracy: 98.650%\n",
      "Step 48000 — average loss: 0.0363947207, accuracy: 99.025%\n",
      "Step 52000 — average loss: 0.0381989767, accuracy: 99.100%\n",
      "Step 56000 — average loss: 0.0407554836, accuracy: 98.925%\n",
      "Step 60000 — average loss: 0.0455255610, accuracy: 98.775%\n",
      "\n",
      "— Epoch 10 of 10 —\n",
      "\n",
      "Step 4000 — average loss: 0.0358368162, accuracy: 99.150%\n",
      "Step 8000 — average loss: 0.0414967138, accuracy: 98.975%\n",
      "Step 12000 — average loss: 0.0279810890, accuracy: 99.325%\n",
      "Step 16000 — average loss: 0.0426765662, accuracy: 98.925%\n",
      "Step 20000 — average loss: 0.0337377654, accuracy: 99.025%\n",
      "Step 24000 — average loss: 0.0409792806, accuracy: 99.075%\n",
      "Step 28000 — average loss: 0.0618356660, accuracy: 98.525%\n",
      "Step 32000 — average loss: 0.0574848413, accuracy: 98.875%\n",
      "Step 36000 — average loss: 0.0366293584, accuracy: 99.075%\n",
      "Step 40000 — average loss: 0.0450374775, accuracy: 98.950%\n",
      "Step 44000 — average loss: 0.0620348665, accuracy: 98.750%\n",
      "Step 48000 — average loss: 0.0354799785, accuracy: 98.900%\n",
      "Step 52000 — average loss: 0.0432276628, accuracy: 99.175%\n",
      "Step 56000 — average loss: 0.0504814480, accuracy: 98.800%\n",
      "Step 60000 — average loss: 0.0410933757, accuracy: 98.900%\n"
     ]
    },
    {
     "data": {
      "image/png": "[encoded data removed]",
      "text/plain": [
       "<Figure size 432x288 with 1 Axes>"
      ]
     },
     "metadata": {
      "needs_background": "light"
     },
     "output_type": "display_data"
    },
    {
     "data": {
      "image/png": "[encoded data removed]",
      "text/plain": [
       "<Figure size 432x288 with 1 Axes>"
      ]
     },
     "metadata": {
      "needs_background": "light"
     },
     "output_type": "display_data"
    },
    {
     "name": "stdout",
     "output_type": "stream",
     "text": [
      "\n",
      "\n",
      "— Testing the CNN —\n",
      "\n",
      "Test Loss: 0.10220539360553002\n",
      "Test Accuracy: 0.9841\n"
     ]
    }
   ],
   "source": [
    "# number of epochs\n",
    "n_epochs = 10\n",
    "\n",
    "# learning rate\n",
    "learn_rate = 0.01\n",
    "\n",
    "# number of steps elapsed \n",
    "nsteps_l = []\n",
    "# loss function\n",
    "loss_l = []\n",
    "# accuracy\n",
    "acc_l = []\n",
    "\n",
    "print('\\n\\n— Start of training —')\n",
    "for epoch in range(n_epochs):\n",
    "    nsteps_l.append([])\n",
    "    loss_l.append([])\n",
    "    acc_l.append([])\n",
    "    print('\\n— Epoch {:d} of {:d} —\\n'.format(epoch+1, n_epochs))\n",
    "\n",
    "    # shuffle the training data\n",
    "    permutation = np_permutation(len(train_images))\n",
    "    train_images = train_images[permutation]\n",
    "    train_labels = train_labels[permutation]\n",
    "\n",
    "    # set the loss and number of correctly predicted labels to 0\n",
    "    loss = 0.\n",
    "    num_correct = 0\n",
    "\n",
    "    # for each image in the training set, train the CNN and update the loss and number of correctly-predicted labels\n",
    "    for i, (im, label) in enumerate(zip(train_images, train_labels)): \n",
    "        results = CNN.train(train_images[i][newaxis,:], int(train_labels[i]), learn_rate, p_dropout)\n",
    "        loss += results[0]\n",
    "        num_correct += results[1]\n",
    "        # if i is a multiple of n_print, print the loss and accuracy            \n",
    "        if i % n_print == n_print - 1:\n",
    "            nsteps_l[-1].append(i)\n",
    "            loss_l[-1].append(loss / n_print)\n",
    "            acc_l[-1].append(num_correct / n_print)\n",
    "            print('Step {:d} — average loss: {:.10f}, accuracy: {:.3f}%'.format(i+1, loss/n_print, num_correct*100./n_print))\n",
    "            # reset the loss and number of correctly-preducted labels\n",
    "            loss = 0.\n",
    "            num_correct = 0\n",
    "\n",
    "# plot the evolution of the loss function - epoch to epoch\n",
    "plt.plot(range(n_epochs), [l[-1] for l in loss_l])\n",
    "plt.xlim(0, n_epochs-1)\n",
    "plt.xlabel(r'$\\mathrm{epoch}$')\n",
    "plt.ylabel(r'$\\mathrm{loss}$')\n",
    "plt.grid()\n",
    "plt.tight_layout()\n",
    "plt.show()\n",
    "\n",
    "# plot the evolution of the accuracy  - epoch to epoch\n",
    "plt.plot(range(n_epochs), [l[-1] for l in acc_l])\n",
    "plt.xlim(0, n_epochs-1)\n",
    "plt.xlabel(r'$\\mathrm{epoch}$')\n",
    "plt.ylabel(r'$\\mathrm{accuracy}$')\n",
    "plt.grid()\n",
    "plt.tight_layout()\n",
    "plt.show()\n",
    "\n",
    "# test the CNN\n",
    "print('\\n\\n— Testing the CNN —\\n')\n",
    "loss = 0.\n",
    "num_correct = 0\n",
    "for i, (im, label) in enumerate(zip(test_images, test_labels)):\n",
    "    results = CNN.forward_la(im[newaxis,:], int(label))\n",
    "    loss += results[0]\n",
    "    num_correct += results[1]\n",
    "print('Test Loss:', loss / n_test_images)\n",
    "print('Test Accuracy:', num_correct / n_test_images)"
   ]
  },
  {
   "cell_type": "markdown",
   "metadata": {},
   "source": [
    "The accuracy has not changed significantly, and the loss has actually gone higher. \n",
    "This indicates that the model has learned essentially as well as it can. \n",
    "It may, however, be possible to reach higher performance using a smaller learning rate.\n",
    "\n",
    "Let us check that by dividing the learning rate by 10. "
   ]
  },
  {
   "cell_type": "code",
   "execution_count": 10,
   "metadata": {
    "scrolled": true
   },
   "outputs": [
    {
     "name": "stdout",
     "output_type": "stream",
     "text": [
      "\n",
      "\n",
      "— Start of training —\n",
      "\n",
      "— Epoch 1 of 10 —\n",
      "\n",
      "Step 4000 — average loss: 0.0209146969, accuracy: 99.275%\n",
      "Step 8000 — average loss: 0.0125879608, accuracy: 99.600%\n",
      "Step 12000 — average loss: 0.0188403229, accuracy: 99.425%\n",
      "Step 16000 — average loss: 0.0151204453, accuracy: 99.525%\n",
      "Step 20000 — average loss: 0.0120181680, accuracy: 99.575%\n",
      "Step 24000 — average loss: 0.0076266247, accuracy: 99.800%\n",
      "Step 28000 — average loss: 0.0054734575, accuracy: 99.850%\n",
      "Step 32000 — average loss: 0.0109066172, accuracy: 99.675%\n",
      "Step 36000 — average loss: 0.0138123578, accuracy: 99.650%\n",
      "Step 40000 — average loss: 0.0103960318, accuracy: 99.600%\n",
      "Step 44000 — average loss: 0.0101628108, accuracy: 99.700%\n",
      "Step 48000 — average loss: 0.0091452363, accuracy: 99.650%\n",
      "Step 52000 — average loss: 0.0109411889, accuracy: 99.675%\n",
      "Step 56000 — average loss: 0.0093542019, accuracy: 99.600%\n",
      "Step 60000 — average loss: 0.0097499857, accuracy: 99.600%\n",
      "\n",
      "— Epoch 2 of 10 —\n",
      "\n",
      "Step 4000 — average loss: 0.0042524559, accuracy: 99.875%\n",
      "Step 8000 — average loss: 0.0064968109, accuracy: 99.800%\n",
      "Step 12000 — average loss: 0.0055215497, accuracy: 99.800%\n",
      "Step 16000 — average loss: 0.0056870252, accuracy: 99.850%\n",
      "Step 20000 — average loss: 0.0087406383, accuracy: 99.725%\n",
      "Step 24000 — average loss: 0.0082341279, accuracy: 99.750%\n",
      "Step 28000 — average loss: 0.0064130522, accuracy: 99.775%\n",
      "Step 32000 — average loss: 0.0062766228, accuracy: 99.825%\n",
      "Step 36000 — average loss: 0.0053163394, accuracy: 99.775%\n",
      "Step 40000 — average loss: 0.0068194949, accuracy: 99.800%\n",
      "Step 44000 — average loss: 0.0079289707, accuracy: 99.800%\n",
      "Step 48000 — average loss: 0.0130110928, accuracy: 99.725%\n",
      "Step 52000 — average loss: 0.0028749358, accuracy: 99.925%\n",
      "Step 56000 — average loss: 0.0093628244, accuracy: 99.725%\n",
      "Step 60000 — average loss: 0.0056763666, accuracy: 99.850%\n",
      "\n",
      "— Epoch 3 of 10 —\n",
      "\n",
      "Step 4000 — average loss: 0.0084536000, accuracy: 99.800%\n",
      "Step 8000 — average loss: 0.0051111288, accuracy: 99.800%\n",
      "Step 12000 — average loss: 0.0077776842, accuracy: 99.900%\n",
      "Step 16000 — average loss: 0.0042520211, accuracy: 99.875%\n",
      "Step 20000 — average loss: 0.0059304292, accuracy: 99.850%\n",
      "Step 24000 — average loss: 0.0060094360, accuracy: 99.825%\n",
      "Step 28000 — average loss: 0.0060565044, accuracy: 99.800%\n",
      "Step 32000 — average loss: 0.0030188998, accuracy: 99.925%\n",
      "Step 36000 — average loss: 0.0062498221, accuracy: 99.850%\n",
      "Step 40000 — average loss: 0.0031114908, accuracy: 99.925%\n",
      "Step 44000 — average loss: 0.0033533852, accuracy: 99.875%\n",
      "Step 48000 — average loss: 0.0066860239, accuracy: 99.900%\n",
      "Step 52000 — average loss: 0.0062701336, accuracy: 99.825%\n",
      "Step 56000 — average loss: 0.0043886968, accuracy: 99.850%\n",
      "Step 60000 — average loss: 0.0036704131, accuracy: 99.825%\n",
      "\n",
      "— Epoch 4 of 10 —\n",
      "\n",
      "Step 4000 — average loss: 0.0039865344, accuracy: 99.875%\n",
      "Step 8000 — average loss: 0.0027377972, accuracy: 99.975%\n",
      "Step 12000 — average loss: 0.0052224021, accuracy: 99.850%\n",
      "Step 16000 — average loss: 0.0035175951, accuracy: 99.875%\n",
      "Step 20000 — average loss: 0.0052803266, accuracy: 99.850%\n",
      "Step 24000 — average loss: 0.0036092651, accuracy: 99.925%\n",
      "Step 28000 — average loss: 0.0036110693, accuracy: 99.900%\n",
      "Step 32000 — average loss: 0.0032143549, accuracy: 99.875%\n",
      "Step 36000 — average loss: 0.0083034981, accuracy: 99.800%\n",
      "Step 40000 — average loss: 0.0041716321, accuracy: 99.825%\n",
      "Step 44000 — average loss: 0.0044005416, accuracy: 99.875%\n",
      "Step 48000 — average loss: 0.0047334879, accuracy: 99.875%\n",
      "Step 52000 — average loss: 0.0041792955, accuracy: 99.875%\n",
      "Step 56000 — average loss: 0.0065709088, accuracy: 99.900%\n",
      "Step 60000 — average loss: 0.0053401200, accuracy: 99.900%\n",
      "\n",
      "— Epoch 5 of 10 —\n",
      "\n",
      "Step 4000 — average loss: 0.0042851908, accuracy: 99.850%\n",
      "Step 8000 — average loss: 0.0031240688, accuracy: 99.925%\n",
      "Step 12000 — average loss: 0.0047620939, accuracy: 99.900%\n",
      "Step 16000 — average loss: 0.0053264560, accuracy: 99.850%\n",
      "Step 20000 — average loss: 0.0032286412, accuracy: 99.925%\n",
      "Step 24000 — average loss: 0.0067426082, accuracy: 99.850%\n",
      "Step 28000 — average loss: 0.0040186042, accuracy: 99.875%\n",
      "Step 32000 — average loss: 0.0046691054, accuracy: 99.875%\n",
      "Step 36000 — average loss: 0.0036810395, accuracy: 99.875%\n",
      "Step 40000 — average loss: 0.0030579379, accuracy: 99.925%\n",
      "Step 44000 — average loss: 0.0034963310, accuracy: 99.950%\n",
      "Step 48000 — average loss: 0.0021478847, accuracy: 99.975%\n",
      "Step 52000 — average loss: 0.0020613144, accuracy: 99.975%\n",
      "Step 56000 — average loss: 0.0038528978, accuracy: 99.900%\n",
      "Step 60000 — average loss: 0.0045472158, accuracy: 99.850%\n",
      "\n",
      "— Epoch 6 of 10 —\n",
      "\n",
      "Step 4000 — average loss: 0.0017474221, accuracy: 99.975%\n",
      "Step 8000 — average loss: 0.0012835314, accuracy: 100.000%\n",
      "Step 12000 — average loss: 0.0013663282, accuracy: 100.000%\n",
      "Step 16000 — average loss: 0.0020913922, accuracy: 99.950%\n",
      "Step 20000 — average loss: 0.0039881311, accuracy: 99.900%\n",
      "Step 24000 — average loss: 0.0025840296, accuracy: 99.950%\n",
      "Step 28000 — average loss: 0.0017062695, accuracy: 99.975%\n",
      "Step 32000 — average loss: 0.0035600893, accuracy: 99.875%\n",
      "Step 36000 — average loss: 0.0037777569, accuracy: 99.900%\n",
      "Step 40000 — average loss: 0.0024087049, accuracy: 99.975%\n",
      "Step 44000 — average loss: 0.0060665281, accuracy: 99.875%\n",
      "Step 48000 — average loss: 0.0036062469, accuracy: 99.925%\n",
      "Step 52000 — average loss: 0.0054362327, accuracy: 99.875%\n",
      "Step 56000 — average loss: 0.0067913977, accuracy: 99.775%\n",
      "Step 60000 — average loss: 0.0047623028, accuracy: 99.850%\n",
      "\n",
      "— Epoch 7 of 10 —\n",
      "\n",
      "Step 4000 — average loss: 0.0030974839, accuracy: 99.925%\n",
      "Step 8000 — average loss: 0.0022738166, accuracy: 99.975%\n",
      "Step 12000 — average loss: 0.0028566131, accuracy: 99.950%\n",
      "Step 16000 — average loss: 0.0016988132, accuracy: 99.975%\n",
      "Step 20000 — average loss: 0.0032248506, accuracy: 99.875%\n",
      "Step 24000 — average loss: 0.0039410520, accuracy: 99.925%\n",
      "Step 28000 — average loss: 0.0031824228, accuracy: 99.900%\n",
      "Step 32000 — average loss: 0.0046982926, accuracy: 99.900%\n",
      "Step 36000 — average loss: 0.0018230397, accuracy: 99.950%\n",
      "Step 40000 — average loss: 0.0048247942, accuracy: 99.925%\n",
      "Step 44000 — average loss: 0.0036177800, accuracy: 99.875%\n",
      "Step 48000 — average loss: 0.0025694926, accuracy: 99.925%\n",
      "Step 52000 — average loss: 0.0039000840, accuracy: 99.900%\n",
      "Step 56000 — average loss: 0.0030343406, accuracy: 99.925%\n",
      "Step 60000 — average loss: 0.0019784239, accuracy: 99.925%\n",
      "\n",
      "— Epoch 8 of 10 —\n",
      "\n",
      "Step 4000 — average loss: 0.0028990213, accuracy: 99.925%\n",
      "Step 8000 — average loss: 0.0013633142, accuracy: 99.950%\n",
      "Step 12000 — average loss: 0.0024306327, accuracy: 99.975%\n",
      "Step 16000 — average loss: 0.0025647789, accuracy: 99.925%\n",
      "Step 20000 — average loss: 0.0022767881, accuracy: 99.925%\n",
      "Step 24000 — average loss: 0.0012918976, accuracy: 100.000%\n",
      "Step 28000 — average loss: 0.0014399978, accuracy: 100.000%\n",
      "Step 32000 — average loss: 0.0031131897, accuracy: 99.950%\n",
      "Step 36000 — average loss: 0.0025045063, accuracy: 99.900%\n",
      "Step 40000 — average loss: 0.0029781920, accuracy: 99.950%\n",
      "Step 44000 — average loss: 0.0030079040, accuracy: 99.875%\n",
      "Step 48000 — average loss: 0.0031571651, accuracy: 99.975%\n",
      "Step 52000 — average loss: 0.0042958460, accuracy: 99.825%\n",
      "Step 56000 — average loss: 0.0045650270, accuracy: 99.875%\n",
      "Step 60000 — average loss: 0.0031110960, accuracy: 99.950%\n",
      "\n",
      "— Epoch 9 of 10 —\n",
      "\n",
      "Step 4000 — average loss: 0.0015392637, accuracy: 99.975%\n",
      "Step 8000 — average loss: 0.0023833659, accuracy: 99.975%\n",
      "Step 12000 — average loss: 0.0017911364, accuracy: 99.950%\n",
      "Step 16000 — average loss: 0.0020595151, accuracy: 99.950%\n",
      "Step 20000 — average loss: 0.0020132088, accuracy: 99.950%\n",
      "Step 24000 — average loss: 0.0020201135, accuracy: 99.950%\n",
      "Step 28000 — average loss: 0.0039981456, accuracy: 99.900%\n",
      "Step 32000 — average loss: 0.0031470227, accuracy: 99.875%\n",
      "Step 36000 — average loss: 0.0016832153, accuracy: 99.975%\n",
      "Step 40000 — average loss: 0.0034992333, accuracy: 99.900%\n",
      "Step 44000 — average loss: 0.0047793983, accuracy: 99.900%\n",
      "Step 48000 — average loss: 0.0020772219, accuracy: 99.925%\n",
      "Step 52000 — average loss: 0.0024135946, accuracy: 99.975%\n",
      "Step 56000 — average loss: 0.0018250073, accuracy: 99.975%\n",
      "Step 60000 — average loss: 0.0014119120, accuracy: 100.000%\n",
      "\n",
      "— Epoch 10 of 10 —\n",
      "\n",
      "Step 4000 — average loss: 0.0016439324, accuracy: 99.975%\n",
      "Step 8000 — average loss: 0.0039983672, accuracy: 99.900%\n",
      "Step 12000 — average loss: 0.0016397897, accuracy: 99.950%\n",
      "Step 16000 — average loss: 0.0010791533, accuracy: 99.975%\n",
      "Step 20000 — average loss: 0.0023170329, accuracy: 99.950%\n",
      "Step 24000 — average loss: 0.0022920164, accuracy: 99.950%\n",
      "Step 28000 — average loss: 0.0012402436, accuracy: 99.975%\n",
      "Step 32000 — average loss: 0.0026299196, accuracy: 99.875%\n",
      "Step 36000 — average loss: 0.0023262846, accuracy: 99.925%\n",
      "Step 40000 — average loss: 0.0022707702, accuracy: 99.975%\n",
      "Step 44000 — average loss: 0.0024206594, accuracy: 99.925%\n",
      "Step 48000 — average loss: 0.0021162807, accuracy: 99.950%\n",
      "Step 52000 — average loss: 0.0044609553, accuracy: 99.900%\n",
      "Step 56000 — average loss: 0.0012632295, accuracy: 100.000%\n",
      "Step 60000 — average loss: 0.0011514509, accuracy: 100.000%\n"
     ]
    },
    {
     "data": {
      "image/png": "[encoded data removed]",
      "text/plain": [
       "<Figure size 432x288 with 1 Axes>"
      ]
     },
     "metadata": {
      "needs_background": "light"
     },
     "output_type": "display_data"
    },
    {
     "data": {
      "image/png": "[encoded data removed]",
      "text/plain": [
       "<Figure size 432x288 with 1 Axes>"
      ]
     },
     "metadata": {
      "needs_background": "light"
     },
     "output_type": "display_data"
    },
    {
     "name": "stdout",
     "output_type": "stream",
     "text": [
      "\n",
      "\n",
      "— Testing the CNN —\n",
      "\n",
      "Test Loss: 0.030801894501261615\n",
      "Test Accuracy: 0.9925\n"
     ]
    }
   ],
   "source": [
    "# re-load the previous CNN\n",
    "CNN.load(save_file_name)\n",
    "\n",
    "# number of epochs\n",
    "n_epochs = 10\n",
    "\n",
    "# learning rate\n",
    "learn_rate = 0.001\n",
    "\n",
    "# number of steps elapsed \n",
    "nsteps_l = []\n",
    "# loss function\n",
    "loss_l = []\n",
    "# accuracy\n",
    "acc_l = []\n",
    "\n",
    "print('\\n\\n— Start of training —')\n",
    "for epoch in range(n_epochs):\n",
    "    nsteps_l.append([])\n",
    "    loss_l.append([])\n",
    "    acc_l.append([])\n",
    "    print('\\n— Epoch {:d} of {:d} —\\n'.format(epoch+1, n_epochs))\n",
    "\n",
    "    # shuffle the training data\n",
    "    permutation = np_permutation(len(train_images))\n",
    "    train_images = train_images[permutation]\n",
    "    train_labels = train_labels[permutation]\n",
    "\n",
    "    # set the loss and number of correctly predicted labels to 0\n",
    "    loss = 0.\n",
    "    num_correct = 0\n",
    "\n",
    "    # for each image in the training set, train the CNN and update the loss and number of correctly-predicted labels\n",
    "    for i, (im, label) in enumerate(zip(train_images, train_labels)): \n",
    "        results = CNN.train(train_images[i][newaxis,:], int(train_labels[i]), learn_rate, p_dropout)\n",
    "        loss += results[0]\n",
    "        num_correct += results[1]\n",
    "        # if i is a multiple of n_print, print the loss and accuracy            \n",
    "        if i % n_print == n_print - 1:\n",
    "            nsteps_l[-1].append(i)\n",
    "            loss_l[-1].append(loss / n_print)\n",
    "            acc_l[-1].append(num_correct / n_print)\n",
    "            print('Step {:d} — average loss: {:.10f}, accuracy: {:.3f}%'.format(i+1, loss/n_print, num_correct*100./n_print))\n",
    "            # reset the loss and number of correctly-preducted labels\n",
    "            loss = 0.\n",
    "            num_correct = 0\n",
    "\n",
    "# plot the evolution of the loss function - epoch to epoch\n",
    "plt.plot(range(n_epochs), [l[-1] for l in loss_l])\n",
    "plt.xlim(0, n_epochs-1)\n",
    "plt.xlabel(r'$\\mathrm{epoch}$')\n",
    "plt.ylabel(r'$\\mathrm{loss}$')\n",
    "plt.grid()\n",
    "plt.tight_layout()\n",
    "plt.show()\n",
    "\n",
    "# plot the evolution of the accuracy  - epoch to epoch\n",
    "plt.plot(range(n_epochs), [l[-1] for l in acc_l])\n",
    "plt.xlim(0, n_epochs-1)\n",
    "plt.xlabel(r'$\\mathrm{epoch}$')\n",
    "plt.ylabel(r'$\\mathrm{accuracy}$')\n",
    "plt.grid()\n",
    "plt.tight_layout()\n",
    "plt.show()\n",
    "\n",
    "# test the CNN\n",
    "print('\\n\\n— Testing the CNN —\\n')\n",
    "loss = 0.\n",
    "num_correct = 0\n",
    "for i, (im, label) in enumerate(zip(test_images, test_labels)):\n",
    "    results = CNN.forward_la(im[newaxis,:], int(label))\n",
    "    loss += results[0]\n",
    "    num_correct += results[1]\n",
    "print('Test Loss:', loss / n_test_images)\n",
    "print('Test Accuracy:', num_correct / n_test_images)"
   ]
  },
  {
   "cell_type": "markdown",
   "metadata": {},
   "source": [
    "The test accuracy is now above 99%. \n",
    "The test loss is an order of magnitude above the train loss, suggesting that the model overfits the training data can not be significantly improved further by simply training on more epochs.\n",
    "\n",
    "## Performance\n",
    "\n",
    "### Choice of hyperparameters\n",
    "\n",
    "Let us now try to change some of the hyperparameters of the model, like the number of layers, neurons, and the size of filters, to see their effects. \n",
    "Proper hyperparameter optimization would require following the validation accuracy to ensure the models are trained over enough epochs and possibly add batch normalization and a learning rate optimizer, which we do not include here to keep the model as simple as possible. \n",
    "More modestly, our aim is to compare a few sets of parameters and look, on specific examples, at the effects of changing one of them. \n",
    "The results shown below should thus be seen as illustrations, which could be a first step to a more precise study.\n",
    "\n",
    "We first define a function training a model over 20 epochs, the last 10 ones being performed with a learning rate divided by 10, and returning the test accuracy."
   ]
  },
  {
   "cell_type": "code",
   "execution_count": 5,
   "metadata": {},
   "outputs": [],
   "source": [
    "def test_params(CNN_params, n_epochs, learn_rate, p_dropout,\n",
    "               train_images, train_labels, test_images, test_labels):\n",
    "\n",
    "    # build the CNN \n",
    "    CNN = CNN3.CNN3(*CNN_params)\n",
    "\n",
    "    # train the CNN\n",
    "    for epoch in range(n_epochs):\n",
    "\n",
    "        # shuffle the training data\n",
    "        permutation = np_permutation(len(train_images))\n",
    "        train_images = train_images[permutation]\n",
    "        train_labels = train_labels[permutation]\n",
    "\n",
    "        # train the CNN for each image in the training set\n",
    "        for i, (im, label) in enumerate(zip(train_images, train_labels)): \n",
    "            CNN.train(train_images[i][newaxis,:], int(train_labels[i]), learn_rate, p_dropout)\n",
    "    \n",
    "    # divide the learning rate by 10\n",
    "    learn_rate /= 10\n",
    "    \n",
    "    # train the CNN\n",
    "    for epoch in range(n_epochs):\n",
    "\n",
    "        # shuffle the training data\n",
    "        permutation = np_permutation(len(train_images))\n",
    "        train_images = train_images[permutation]\n",
    "        train_labels = train_labels[permutation]\n",
    "\n",
    "        # train the CNN for each image in the training set\n",
    "        for i, (im, label) in enumerate(zip(train_images, train_labels)): \n",
    "            CNN.train(train_images[i][newaxis,:], int(train_labels[i]), learn_rate, p_dropout)\n",
    "\n",
    "    # test the CNN\n",
    "    num_correct = 0\n",
    "    for i, (im, label) in enumerate(zip(test_images, test_labels)):\n",
    "        results = CNN.forward_la(im[newaxis,:], int(label))\n",
    "        num_correct += results[1]\n",
    "\n",
    "    return num_correct / len(test_images)"
   ]
  },
  {
   "cell_type": "markdown",
   "metadata": {},
   "source": [
    "Let us first define the parameters common to all the networks:"
   ]
  },
  {
   "cell_type": "code",
   "execution_count": 6,
   "metadata": {},
   "outputs": [],
   "source": [
    "n_train_images = 60000\n",
    "n_test_images = 10000\n",
    "n_epochs = 10\n",
    "n_print = 4000\n",
    "learn_rate = 0.01\n",
    "img_w = 28 \n",
    "img_h = 28 \n",
    "num_labels = 10 \n",
    "p_dropout = 0.2 \n",
    "MP_size = [2,2] \n",
    "\n",
    "# normalization function\n",
    "def normalize(image):\n",
    "    return image / 255 - 0.5\n",
    "\n",
    "# training images and labels\n",
    "train_images = normalize(mnist.train_images()[:n_train_images])\n",
    "train_labels = mnist.train_labels()[:n_train_images]\n",
    "\n",
    "# test images and labels\n",
    "test_images = normalize(mnist.test_images()[:n_test_images])\n",
    "test_labels = mnist.test_labels()[:n_test_images]"
   ]
  },
  {
   "cell_type": "markdown",
   "metadata": {},
   "source": [
    "We now define a function taking as parameters the lists of fiter sizes, numbers of filters, and numbers of neurons in the fully-connected layer and training the corresponding network:"
   ]
  },
  {
   "cell_type": "code",
   "execution_count": 7,
   "metadata": {},
   "outputs": [],
   "source": [
    "def test_network(CL_size_filters, CL_num_filters, FC_size):\n",
    "    CNN_params = [img_w, img_h, 1, CL_size_filters, CL_num_filters, MP_size, FC_size, num_labels]\n",
    "    return test_params(CNN_params, n_epochs, learn_rate, p_dropout,\n",
    "               train_images, train_labels, test_images, test_labels)"
   ]
  },
  {
   "cell_type": "markdown",
   "metadata": {},
   "source": [
    "We first perform a test with a small number of filters and no dense layer:"
   ]
  },
  {
   "cell_type": "code",
   "execution_count": 8,
   "metadata": {},
   "outputs": [
    {
     "name": "stdout",
     "output_type": "stream",
     "text": [
      "Accuracy: 0.9292\n"
     ]
    }
   ],
   "source": [
    "CL_size_filters = [3,3] \n",
    "CL_num_filters = [1,2] \n",
    "FC_size = [] \n",
    "accuracy = test_network(CL_size_filters, CL_num_filters, FC_size)\n",
    "print('Accuracy: ' + str(accuracy))"
   ]
  },
  {
   "cell_type": "markdown",
   "metadata": {},
   "source": [
    "The accuracy is close to 93%.\n",
    "Let us add a dense layer with 32 neurons, like in the previous section:"
   ]
  },
  {
   "cell_type": "code",
   "execution_count": 7,
   "metadata": {},
   "outputs": [
    {
     "name": "stdout",
     "output_type": "stream",
     "text": [
      "Accuracy: 0.9627\n"
     ]
    }
   ],
   "source": [
    "CL_size_filters = [3,3] \n",
    "CL_num_filters = [1,2] \n",
    "FC_size = [32] \n",
    "accuracy = test_network(CL_size_filters, CL_num_filters, FC_size)\n",
    "print('Accuracy: ' + str(accuracy))"
   ]
  },
  {
   "cell_type": "markdown",
   "metadata": {},
   "source": [
    "The accuracy has increased to 96%. \n",
    "The dense layer thus seems to help with the learning, although the reduced number of filters still hampers it.\n",
    "Let us multiply by 4 the number of filters in each layer: "
   ]
  },
  {
   "cell_type": "code",
   "execution_count": 8,
   "metadata": {},
   "outputs": [
    {
     "name": "stdout",
     "output_type": "stream",
     "text": [
      "Accuracy: 0.9874\n"
     ]
    }
   ],
   "source": [
    "CL_size_filters = [3,3] \n",
    "CL_num_filters = [4,8] \n",
    "FC_size = [32] \n",
    "accuracy = test_network(CL_size_filters, CL_num_filters, FC_size)\n",
    "print('Accuracy: ' + str(accuracy))"
   ]
  },
  {
   "cell_type": "markdown",
   "metadata": {},
   "source": [
    "The accuracy is close to 98.7%. \n",
    "It seems that (as one could expect), increasing the number of filters leads to better results. \n",
    "\n",
    "Let us now try with only one convolution layer with the same total number of filters (the following cell takes much longer to run than the previous ones):"
   ]
  },
  {
   "cell_type": "code",
   "execution_count": 8,
   "metadata": {},
   "outputs": [
    {
     "name": "stdout",
     "output_type": "stream",
     "text": [
      "Accuracy: 0.9855\n"
     ]
    }
   ],
   "source": [
    "CL_size_filters = [3] \n",
    "CL_num_filters = [12] \n",
    "FC_size = [32] \n",
    "accuracy = test_network(CL_size_filters, CL_num_filters, FC_size)\n",
    "print('Accuracy: ' + str(accuracy))"
   ]
  },
  {
   "cell_type": "markdown",
   "metadata": {},
   "source": [
    "The accuracy is close to 98.6%, a bit lower than the previous one. \n",
    "While the difference in accuracy is not sinificant, this network took significantly longer (by a factor larger than 2) to train than the previous one. \n",
    "This illustrates the well-known fact that, typically, “deep” neural networks (with many layers) tend to be more efficient than “wide” ones (with less layers but more neurons per layer) for a given number of connections. \n",
    "(Although the above experiment is not exactly an apple-to-apple comparison because the image size is reduced between two convolution layers.)\n",
    "\n",
    "Let us now look at the effect of the dense layer. \n",
    "We first try to reduce the number of neurons:"
   ]
  },
  {
   "cell_type": "code",
   "execution_count": 8,
   "metadata": {},
   "outputs": [
    {
     "name": "stdout",
     "output_type": "stream",
     "text": [
      "Accuracy: 0.9861\n"
     ]
    }
   ],
   "source": [
    "CL_size_filters = [3,3] \n",
    "CL_num_filters = [4,8] \n",
    "FC_size = [16]\n",
    "accuracy = test_network(CL_size_filters, CL_num_filters, FC_size)\n",
    "print('Accuracy: ' + str(accuracy))"
   ]
  },
  {
   "cell_type": "markdown",
   "metadata": {},
   "source": [
    "The accuracy is very close to the one we got with 32 neurons, which suggests that, for this number and size of convolution filters, a dense layer with 16 neurons is large enough. \n",
    "\n",
    "Let us now try with no dense layer at all:"
   ]
  },
  {
   "cell_type": "code",
   "execution_count": 10,
   "metadata": {},
   "outputs": [
    {
     "name": "stdout",
     "output_type": "stream",
     "text": [
      "Accuracy: 0.9853\n"
     ]
    }
   ],
   "source": [
    "CL_size_filters = [3,3] \n",
    "CL_num_filters = [4,8] \n",
    "FC_size = []\n",
    "accuracy = test_network(CL_size_filters, CL_num_filters, FC_size)\n",
    "print('Accuracy: ' + str(accuracy))"
   ]
  },
  {
   "cell_type": "markdown",
   "metadata": {},
   "source": [
    "The accuracy is very close to the previous one, confirming that the dense layer does not play an important role.\n",
    "\n",
    "Let us finally briefly look at the effect of the filter size by increasing it to 5:  "
   ]
  },
  {
   "cell_type": "code",
   "execution_count": 8,
   "metadata": {},
   "outputs": [
    {
     "name": "stdout",
     "output_type": "stream",
     "text": [
      "Accuracy: 0.988\n"
     ]
    }
   ],
   "source": [
    "CL_size_filters = [5,5] \n",
    "CL_num_filters = [4,8] \n",
    "FC_size = [16]\n",
    "accuracy = test_network(CL_size_filters, CL_num_filters, FC_size)\n",
    "print('Accuracy: ' + str(accuracy))"
   ]
  },
  {
   "cell_type": "markdown",
   "metadata": {},
   "source": [
    "The accuracy is slightly above the one obtained with smaller filters. \n",
    "Increasing the filter size thus seems to help a little, but increasing the number of filters is more advantageous.\n",
    "\n",
    "All in all, the main observation from these experiments is that changing the hyperparameters does not affect the resulting accuracy very much: all the models we have tried in this section have an accuracy between 92.9% (with all models escept the simplest one exceeding 95%) and 99%. \n",
    "The reason is that the problem we are testing them on, handwritten digits classification on the MNIST dataset, is a relatively simple one, as the different classes can be separated by detecting some simple featurs such as straight or curved lines and the images are of relatively good quality. Therefore, even very simple models with only a few filters and neurons perform decently well. More complex models are required when trying to increase the accuracy above 99%, as such a model needs to classify correctly even the few “hard” images where these features may not be as clear cut, when working on more complex problems such as blood cell classification, or when the dataset has more noise.\n",
    "\n",
    "### Comparison with a TensorFlow implementation\n",
    "\n",
    "Let us compare the accuracy of our model with a simple CNN built using the Keras library with the TensorFlow backend."
   ]
  },
  {
   "cell_type": "code",
   "execution_count": 6,
   "metadata": {},
   "outputs": [
    {
     "name": "stdout",
     "output_type": "stream",
     "text": [
      "Model: \"sequential\"\n",
      "_________________________________________________________________\n",
      "Layer (type)                 Output Shape              Param #   \n",
      "=================================================================\n",
      "conv2d (Conv2D)              (None, 26, 26, 16)        160       \n",
      "_________________________________________________________________\n",
      "max_pooling2d (MaxPooling2D) (None, 13, 13, 16)        0         \n",
      "_________________________________________________________________\n",
      "conv2d_1 (Conv2D)            (None, 11, 11, 32)        4640      \n",
      "_________________________________________________________________\n",
      "max_pooling2d_1 (MaxPooling2 (None, 5, 5, 32)          0         \n",
      "_________________________________________________________________\n",
      "flatten (Flatten)            (None, 800)               0         \n",
      "_________________________________________________________________\n",
      "dense (Dense)                (None, 32)                25632     \n",
      "_________________________________________________________________\n",
      "dropout (Dropout)            (None, 32)                0         \n",
      "_________________________________________________________________\n",
      "dense_1 (Dense)              (None, 10)                330       \n",
      "=================================================================\n",
      "Total params: 30,762\n",
      "Trainable params: 30,762\n",
      "Non-trainable params: 0\n",
      "_________________________________________________________________\n"
     ]
    }
   ],
   "source": [
    "# import the keras library\n",
    "import keras\n",
    "from numpy import array\n",
    "\n",
    "# define the model\n",
    "model = keras.Sequential(\n",
    "    [\n",
    "        keras.layers.Conv2D(16, 3, activation='relu', input_shape = (28,28,1)), # convolution layer\n",
    "        keras.layers.MaxPooling2D(pool_size=(2, 2)), # MaxPool layer\n",
    "        keras.layers.Conv2D(32, 3, activation='relu'), # convolution layer\n",
    "        keras.layers.MaxPooling2D(pool_size=(2, 2)), # MaxPool layer\n",
    "        keras.layers.Flatten(), # flatten the output\n",
    "        keras.layers.Dense(32, activation='relu'), # dense layer\n",
    "        keras.layers.Dropout(0.2), # dropout layer\n",
    "        keras.layers.Dense(10, activation='softmax') # output layer\n",
    "    ]\n",
    ")\n",
    "\n",
    "# compile the model\n",
    "model.compile(\n",
    "    optimizer=keras.optimizers.Adam(),  # Optimizer\n",
    "    # Loss function to minimize\n",
    "    loss=keras.losses.categorical_crossentropy,\n",
    "    # List of metrics to monitor\n",
    "    metrics=['accuracy'],\n",
    ")\n",
    "\n",
    "# print a summary of the model\n",
    "model.summary()"
   ]
  },
  {
   "cell_type": "markdown",
   "metadata": {},
   "source": [
    "Let us train the model on 30 epochs:"
   ]
  },
  {
   "cell_type": "code",
   "execution_count": 7,
   "metadata": {},
   "outputs": [
    {
     "name": "stdout",
     "output_type": "stream",
     "text": [
      "Epoch 1/30\n",
      "1875/1875 [==============================] - 14s 7ms/step - loss: 0.2984 - accuracy: 0.9075\n",
      "Epoch 2/30\n",
      "1875/1875 [==============================] - 14s 7ms/step - loss: 0.1031 - accuracy: 0.9688\n",
      "Epoch 3/30\n",
      "1875/1875 [==============================] - 15s 8ms/step - loss: 0.0763 - accuracy: 0.9779\n",
      "Epoch 4/30\n",
      "1875/1875 [==============================] - 15s 8ms/step - loss: 0.0628 - accuracy: 0.9808\n",
      "Epoch 5/30\n",
      "1875/1875 [==============================] - 15s 8ms/step - loss: 0.0541 - accuracy: 0.9829\n",
      "Epoch 6/30\n",
      "1875/1875 [==============================] - 16s 8ms/step - loss: 0.0472 - accuracy: 0.9853\n",
      "Epoch 7/30\n",
      "1875/1875 [==============================] - 16s 8ms/step - loss: 0.0411 - accuracy: 0.9872\n",
      "Epoch 8/30\n",
      "1875/1875 [==============================] - 16s 8ms/step - loss: 0.0372 - accuracy: 0.9878\n",
      "Epoch 9/30\n",
      "1875/1875 [==============================] - 16s 8ms/step - loss: 0.0319 - accuracy: 0.9898\n",
      "Epoch 10/30\n",
      "1875/1875 [==============================] - 16s 8ms/step - loss: 0.0316 - accuracy: 0.9896\n",
      "Epoch 11/30\n",
      "1875/1875 [==============================] - 17s 9ms/step - loss: 0.0283 - accuracy: 0.9908\n",
      "Epoch 12/30\n",
      "1875/1875 [==============================] - 16s 9ms/step - loss: 0.0272 - accuracy: 0.9908\n",
      "Epoch 13/30\n",
      "1875/1875 [==============================] - 16s 9ms/step - loss: 0.0251 - accuracy: 0.9919\n",
      "Epoch 14/30\n",
      "1875/1875 [==============================] - 16s 8ms/step - loss: 0.0225 - accuracy: 0.9926\n",
      "Epoch 15/30\n",
      "1875/1875 [==============================] - 15s 8ms/step - loss: 0.0228 - accuracy: 0.9926\n",
      "Epoch 16/30\n",
      "1875/1875 [==============================] - 15s 8ms/step - loss: 0.0209 - accuracy: 0.9931\n",
      "Epoch 17/30\n",
      "1875/1875 [==============================] - 15s 8ms/step - loss: 0.0191 - accuracy: 0.9935\n",
      "Epoch 18/30\n",
      "1875/1875 [==============================] - 15s 8ms/step - loss: 0.0190 - accuracy: 0.9939\n",
      "Epoch 19/30\n",
      "1875/1875 [==============================] - 15s 8ms/step - loss: 0.0184 - accuracy: 0.9940\n",
      "Epoch 20/30\n",
      "1875/1875 [==============================] - 16s 8ms/step - loss: 0.0161 - accuracy: 0.9941\n",
      "Epoch 21/30\n",
      "1875/1875 [==============================] - 15s 8ms/step - loss: 0.0163 - accuracy: 0.9948\n",
      "Epoch 22/30\n",
      "1875/1875 [==============================] - 16s 8ms/step - loss: 0.0165 - accuracy: 0.9945\n",
      "Epoch 23/30\n",
      "1875/1875 [==============================] - 16s 8ms/step - loss: 0.0145 - accuracy: 0.9949\n",
      "Epoch 24/30\n",
      "1875/1875 [==============================] - 16s 8ms/step - loss: 0.0146 - accuracy: 0.9948\n",
      "Epoch 25/30\n",
      "1875/1875 [==============================] - 16s 8ms/step - loss: 0.0146 - accuracy: 0.9952\n",
      "Epoch 26/30\n",
      "1875/1875 [==============================] - 16s 8ms/step - loss: 0.0149 - accuracy: 0.9951\n",
      "Epoch 27/30\n",
      "1875/1875 [==============================] - 16s 8ms/step - loss: 0.0143 - accuracy: 0.9953\n",
      "Epoch 28/30\n",
      "1875/1875 [==============================] - 16s 8ms/step - loss: 0.0131 - accuracy: 0.9957\n",
      "Epoch 29/30\n",
      "1875/1875 [==============================] - 16s 8ms/step - loss: 0.0126 - accuracy: 0.9960\n",
      "Epoch 30/30\n",
      "1875/1875 [==============================] - 16s 8ms/step - loss: 0.0140 - accuracy: 0.9953\n"
     ]
    },
    {
     "data": {
      "text/plain": [
       "<tensorflow.python.keras.callbacks.History at 0x7f94e7d68f70>"
      ]
     },
     "execution_count": 7,
     "metadata": {},
     "output_type": "execute_result"
    }
   ],
   "source": [
    "# fit the model on the training images after converting the labels to \n",
    "# one-hot format\n",
    "\n",
    "def to_one_hot(l):\n",
    "    res = [[0 for i in range(10)] for _ in l]\n",
    "    for i, j in enumerate(l):\n",
    "        res[i][j] = 1\n",
    "    return array(res)\n",
    "\n",
    "# the newaxis is needed as Keras uses four-dimensional arrays as input\n",
    "model.fit(train_images[:,:,:,newaxis], to_one_hot(train_labels), epochs=30)"
   ]
  },
  {
   "cell_type": "markdown",
   "metadata": {},
   "source": [
    "Let us test the model:"
   ]
  },
  {
   "cell_type": "code",
   "execution_count": 8,
   "metadata": {},
   "outputs": [
    {
     "name": "stdout",
     "output_type": "stream",
     "text": [
      "313/313 [==============================] - 1s 3ms/step - loss: 0.0468 - accuracy: 0.9912\n",
      "test loss, test accuracy: [0.04680200666189194, 0.9911999702453613]\n"
     ]
    }
   ],
   "source": [
    "results = model.evaluate(test_images[:,:,:,newaxis], to_one_hot(test_labels))\n",
    "print('test loss, test accuracy:', results)"
   ]
  },
  {
   "cell_type": "markdown",
   "metadata": {},
   "source": [
    "The accuracy is slightly above 99%, which is close to what we obtained with the previous model. \n",
    "(This is not surprizing as the models are essentially the same. \n",
    "The main difference is that this implementation uses an optimizer which automatically adjusts the learning rate during the training, while we had to to it manually on the custom implementation.)\n",
    "\n",
    "This implementation is typically faster to train (by how much depends on the hardware). \n",
    "This is because TensorFlow makes use of many optimisations, including (but surely not limited to) a better use of multi-core architectures and of the GPU if set-up to run on it. \n",
    "(Running a large model is generally much more efficient on a GPU than a CPU, because many operations can be performed in parallel, making full use of the GPU architecture. \n",
    "However, since the model we run here is relatively small, with only a few tens of thousands of parameters, running it on a CPU or GPU should not make a huge difference. \n",
    "Which one is more efficient depends, of course, of the specific CPU and GPU.)"
   ]
  },
  {
   "cell_type": "markdown",
   "metadata": {},
   "source": [
    "## Conclusion\n",
    "\n",
    "## Appendix: The implementation\n",
    "\n",
    "### Structure\n",
    "\n",
    "### Convolutional layer\n",
    "\n",
    "### ReLU layer\n",
    "\n",
    "### Maxpool layer\n",
    "\n",
    "### Fully-connected layer\n",
    "\n",
    "### Softmax activation function"
   ]
  },
  {
   "cell_type": "code",
   "execution_count": null,
   "metadata": {},
   "outputs": [],
   "source": []
  }
 ],
 "metadata": {
  "kernelspec": {
   "display_name": "Python 3",
   "language": "python",
   "name": "python3"
  },
  "language_info": {
   "codemirror_mode": {
    "name": "ipython",
    "version": 3
   },
   "file_extension": ".py",
   "mimetype": "text/x-python",
   "name": "python",
   "nbconvert_exporter": "python",
   "pygments_lexer": "ipython3",
   "version": "3.8.5"
  }
 },
 "nbformat": 4,
 "nbformat_minor": 4
}
